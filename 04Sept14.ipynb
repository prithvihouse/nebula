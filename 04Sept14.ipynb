{
 "cells": [
  {
   "cell_type": "markdown",
   "metadata": {},
   "source": [
    "### SORTING"
   ]
  },
  {
   "cell_type": "code",
   "execution_count": 2,
   "metadata": {},
   "outputs": [
    {
     "name": "stdout",
     "output_type": "stream",
     "text": [
      "[10, 20, 30, 40, 60]\n"
     ]
    }
   ],
   "source": [
    "xs = [20,30,10,60,40]\n",
    "xs.sort()\n",
    "print(xs)"
   ]
  },
  {
   "cell_type": "code",
   "execution_count": 3,
   "metadata": {},
   "outputs": [
    {
     "name": "stdout",
     "output_type": "stream",
     "text": [
      "[20, 30, 10, 60, 40]\n",
      "[10, 20, 30, 40, 60]\n"
     ]
    }
   ],
   "source": [
    "ys = [20,30,10,60,40]\n",
    "ss = sorted(xs)\n",
    "print(ys)\n",
    "print(ss)"
   ]
  },
  {
   "cell_type": "code",
   "execution_count": 4,
   "metadata": {},
   "outputs": [
    {
     "name": "stdout",
     "output_type": "stream",
     "text": [
      "['John', 'Alice', 'Howard']\n",
      "['Alice', 'Howard', 'John']\n"
     ]
    }
   ],
   "source": [
    "zs = [\"John\",\"Alice\",\"Howard\"]\n",
    "szs = sorted(zs)\n",
    "print(zs)\n",
    "print(szs)"
   ]
  },
  {
   "cell_type": "code",
   "execution_count": 7,
   "metadata": {},
   "outputs": [
    {
     "name": "stdout",
     "output_type": "stream",
     "text": [
      "[('ARI', 8, 0.555), ('ATL', 6, 0.667), ('CLE', 9, 0.867)]\n"
     ]
    }
   ],
   "source": [
    "sdata = [('ATL',6,0.667), ('ARI',8,0.555), ('CLE',9,0.867) ]\n",
    "ss = sorted(sdata) # sorts by default on first component of tuple\n",
    "print(ss)"
   ]
  },
  {
   "cell_type": "code",
   "execution_count": 12,
   "metadata": {},
   "outputs": [
    {
     "name": "stdout",
     "output_type": "stream",
     "text": [
      "[('ATL', 6, 0.667), ('ARI', 8, 0.555), ('CLE', 9, 0.367)]\n"
     ]
    }
   ],
   "source": [
    "sdata = [('ATL',6,0.667), ('ARI',8,0.555), ('CLE',9,0.367) ]\n",
    "ss = sorted(sdata,key=lambda x: x[2],reverse=True)\n",
    "print(ss)"
   ]
  },
  {
   "cell_type": "markdown",
   "metadata": {},
   "source": [
    "### WHILE LOOP"
   ]
  },
  {
   "cell_type": "code",
   "execution_count": 13,
   "metadata": {},
   "outputs": [
    {
     "name": "stdout",
     "output_type": "stream",
     "text": [
      "You entered a\n",
      "Done\n"
     ]
    }
   ],
   "source": [
    "while True:\n",
    "  x = input(\"Enter a command: \")\n",
    "  if x == 'q':\n",
    "    break\n",
    "  else:\n",
    "    print(\"You entered\",x)\n",
    "print(\"Done\")"
   ]
  },
  {
   "cell_type": "markdown",
   "metadata": {},
   "source": [
    "### FORMATTED PRINT"
   ]
  },
  {
   "cell_type": "code",
   "execution_count": 18,
   "metadata": {},
   "outputs": [
    {
     "name": "stdout",
     "output_type": "stream",
     "text": [
      "x   Charlesx 34  x62.33 x\n"
     ]
    }
   ],
   "source": [
    "print(\"x{:>10s}x{:^5d}x{:<6.2f}x\".format(\"Charles\",34,62.33))"
   ]
  },
  {
   "cell_type": "markdown",
   "metadata": {},
   "source": [
    "### ENUMERATED FOR-LOOP"
   ]
  },
  {
   "cell_type": "code",
   "execution_count": 20,
   "metadata": {},
   "outputs": [
    {
     "name": "stdout",
     "output_type": "stream",
     "text": [
      "John\n",
      "Alice\n",
      "Howard\n"
     ]
    }
   ],
   "source": [
    "xs = [\"John\",\"Alice\",\"Howard\"]\n",
    "for x in xs:\n",
    "    print(x)"
   ]
  },
  {
   "cell_type": "code",
   "execution_count": 23,
   "metadata": {},
   "outputs": [
    {
     "name": "stdout",
     "output_type": "stream",
     "text": [
      "John\n",
      "Alice\n",
      "Howard\n"
     ]
    }
   ],
   "source": [
    "xs = [\"John\",\"Alice\",\"Howard\"]\n",
    "for i in range(len(xs)):\n",
    "    print(xs[i])"
   ]
  },
  {
   "cell_type": "code",
   "execution_count": 28,
   "metadata": {},
   "outputs": [
    {
     "name": "stdout",
     "output_type": "stream",
     "text": [
      "0 John\n",
      "1 Alice\n",
      "2 Howard\n"
     ]
    }
   ],
   "source": [
    "xs = [\"John\",\"Alice\",\"Howard\"]\n",
    "for (i,x) in enumerate(xs):\n",
    "    print(i,x)"
   ]
  },
  {
   "cell_type": "code",
   "execution_count": 29,
   "metadata": {},
   "outputs": [
    {
     "data": {
      "text/plain": [
       "[(0, 'John'), (1, 'Alice'), (2, 'Howard')]"
      ]
     },
     "execution_count": 29,
     "metadata": {},
     "output_type": "execute_result"
    }
   ],
   "source": [
    "xs = [\"John\",\"Alice\",\"Howard\"]\n",
    "list(enumerate(xs))"
   ]
  },
  {
   "cell_type": "markdown",
   "metadata": {},
   "source": [
    "### RANGE"
   ]
  },
  {
   "cell_type": "code",
   "execution_count": 24,
   "metadata": {},
   "outputs": [
    {
     "name": "stdout",
     "output_type": "stream",
     "text": [
      "0\n",
      "1\n",
      "2\n",
      "3\n",
      "4\n"
     ]
    }
   ],
   "source": [
    "for x in range(5):\n",
    "    print(x)"
   ]
  },
  {
   "cell_type": "code",
   "execution_count": 25,
   "metadata": {},
   "outputs": [
    {
     "name": "stdout",
     "output_type": "stream",
     "text": [
      "10\n",
      "11\n",
      "12\n",
      "13\n",
      "14\n"
     ]
    }
   ],
   "source": [
    "for x in range(10,15):\n",
    "    print(x)"
   ]
  },
  {
   "cell_type": "code",
   "execution_count": 26,
   "metadata": {},
   "outputs": [
    {
     "name": "stdout",
     "output_type": "stream",
     "text": [
      "10\n",
      "12\n",
      "14\n",
      "16\n",
      "18\n"
     ]
    }
   ],
   "source": [
    "for x in range(10,20,2):\n",
    "    print(x)"
   ]
  },
  {
   "cell_type": "code",
   "execution_count": 27,
   "metadata": {},
   "outputs": [
    {
     "data": {
      "text/plain": [
       "[10, 12, 14, 16, 18]"
      ]
     },
     "execution_count": 27,
     "metadata": {},
     "output_type": "execute_result"
    }
   ],
   "source": [
    "list(range(10,20,2))"
   ]
  },
  {
   "cell_type": "markdown",
   "metadata": {},
   "source": [
    "### zip"
   ]
  },
  {
   "cell_type": "code",
   "execution_count": 30,
   "metadata": {},
   "outputs": [
    {
     "data": {
      "text/plain": [
       "[(1, 'John'), (2, 'Alice'), (3, 'Howard'), (4, 'Tom')]"
      ]
     },
     "execution_count": 30,
     "metadata": {},
     "output_type": "execute_result"
    }
   ],
   "source": [
    "xs = [1,2,3,4]\n",
    "ys = [\"John\",\"Alice\",\"Howard\",\"Tom\"]\n",
    "list(zip(xs,ys))"
   ]
  },
  {
   "cell_type": "code",
   "execution_count": 31,
   "metadata": {},
   "outputs": [
    {
     "data": {
      "text/plain": [
       "[(0, 10, 110), (1, 11, 111), (2, 12, 112), (3, 13, 113), (4, 14, 114)]"
      ]
     },
     "execution_count": 31,
     "metadata": {},
     "output_type": "execute_result"
    }
   ],
   "source": [
    "x1 = list(range(5))\n",
    "x2 = list(range(10,15))\n",
    "x3 = list(range(110,115))\n",
    "list(zip(x1,x2,x3))"
   ]
  },
  {
   "cell_type": "code",
   "execution_count": 1,
   "metadata": {},
   "outputs": [
    {
     "ename": "SyntaxError",
     "evalue": "invalid decimal literal (595374840.py, line 75)",
     "output_type": "error",
     "traceback": [
      "\u001b[0;36m  Cell \u001b[0;32mIn[1], line 75\u001b[0;36m\u001b[0m\n\u001b[0;31m    xCharles   x   34x 62.33x\u001b[0m\n\u001b[0m                    ^\u001b[0m\n\u001b[0;31mSyntaxError\u001b[0m\u001b[0;31m:\u001b[0m invalid decimal literal\n"
     ]
    }
   ],
   "source": [
    "SORTING\n",
    "\n",
    ">>> xs = [20,30,10,60,40]\n",
    ">>> ss = sorted(xs)\n",
    ">>> ss\n",
    "[10, 20, 30, 40, 60]\n",
    ">>> xs = [20,30,10,60,40]\n",
    ">>> xs.sort()\n",
    ">>> xs\n",
    "[10, 20, 30, 40, 60]\n",
    ">>> xs = [\"Bob\", \"Alice\", \"Charles\", \"Fred\", \"George\"]\n",
    ">>> ss = sorted(xs)\n",
    ">>> ss\n",
    "['Alice', 'Bob', 'Charles', 'Fred', 'George']\n",
    ">>> xs\n",
    "['Bob', 'Alice', 'Charles', 'Fred', 'George']\n",
    ">>> xs.sort()\n",
    ">>> xs\n",
    "['Alice', 'Bob', 'Charles', 'Fred', 'George']\n",
    ">>> \n",
    ">>> xs.sort(reverse=True)\n",
    ">>> xs\n",
    "['George', 'Fred', 'Charles', 'Bob', 'Alice']\n",
    ">>> xs = [20,30,10,60,40]\n",
    ">>> ss = sorted(xs,reverse=True)\n",
    ">>> ss\n",
    "[60, 40, 30, 20, 10]\n",
    ">>> \n",
    ">>> xs = [(\"a\",20),(\"z\",36),(\"p\",11),(\"x\",6)]\n",
    ">>> sorted(xs)\n",
    "[('a', 20), ('p', 11), ('x', 6), ('z', 36)]\n",
    ">>> xs.sort(key=lambda x: x[1])\n",
    ">>> xs\n",
    "[('x', 6), ('p', 11), ('a', 20), ('z', 36)]\n",
    ">>> xs.sort(key=lambda x: x[1])\n",
    ">>> sorted(xs,key=lambda x: x[1])\n",
    "[('x', 6), ('p', 11), ('a', 20), ('z', 36)]\n",
    ">>> sorted(xs,key=lambda x: x[0])\n",
    "[('a', 20), ('p', 11), ('x', 6), ('z', 36)]\n",
    ">>>\n",
    "\n",
    "\n",
    "WHILE LOOP\n",
    "\n",
    "while True:\n",
    "  ...\n",
    "  ...\n",
    "  if C:\n",
    "    break\n",
    "  ...\n",
    "  ...\n",
    "\n",
    "continue (skips remaining steps and re-performs loop)\n",
    "\n",
    "while True:\n",
    "  x = input(\"Enter a command: \")\n",
    "  if x == 'q':\n",
    "    break\n",
    "  else:\n",
    "    print(\"You entered\",x)\n",
    "print(\"Done\")\n",
    "\n",
    "\n",
    "FORMATTED PRINT\n",
    "\n",
    ">>> print(\"{:10s}{:5d}{:6.2f}\".format(\"Charles\",34,62.33))\n",
    "Charles      34 62.33\n",
    ">>> print(\"{:>10s}{:5d}{:6.2f}\".format(\"Charles\",34,62.33))\n",
    "   Charles   34 62.33\n",
    ">>> print(\"{:>10s}{:>5d}{:6.2f}\".format(\"Charles\",34,62.33))\n",
    "   Charles   34 62.33\n",
    ">>> print(\"{:>10s}{:<5d}{:6.2f}\".format(\"Charles\",34,62.33))\n",
    "   Charles34    62.33\n",
    ">>> print(\"x{:10s}x{:5d}x{:6.2f}x\".format(\"Charles\",34,62.33))\n",
    "xCharles   x   34x 62.33x\n",
    ">>>\n",
    "\n",
    "< left-justified\n",
    "> right-justified\n",
    "^ centered\n",
    "\n",
    "strings are left-justified by default\n",
    "numbers are right-justified by default\n",
    "\n",
    "ENUMERATED FOR-LOOP\n",
    "\n",
    ">>> xs = [\"John\",\"Alice\",\"Charles\",\"Tom\"]\n",
    ">>> for (i,x) in enumerate(xs):\n",
    "...   print(i,x)\n",
    "... \n",
    "0 John\n",
    "1 Alice\n",
    "2 Charles\n",
    "3 Tom\n",
    ">>>\n",
    "\n",
    "\n",
    "RANGE\n",
    "\n",
    "for i in range(10):\n",
    "  print(i)\n",
    "\n",
    "for u in range(5,10):\n",
    "  print(u)\n",
    "\n",
    "for v in range(5,10,2):\n",
    "  print(v)\n",
    "\n",
    "\n",
    "ZIP\n",
    "\n",
    "for (x,y) in zip(xs,ys):\n",
    "  print(x,y)\n",
    "\n"
   ]
  }
 ],
 "metadata": {
  "kernelspec": {
   "display_name": "Python 3.10.6 64-bit",
   "language": "python",
   "name": "python3"
  },
  "language_info": {
   "codemirror_mode": {
    "name": "ipython",
    "version": 3
   },
   "file_extension": ".py",
   "mimetype": "text/x-python",
   "name": "python",
   "nbconvert_exporter": "python",
   "pygments_lexer": "ipython3",
   "version": "3.11.3"
  },
  "orig_nbformat": 4,
  "vscode": {
   "interpreter": {
    "hash": "aee8b7b246df8f9039afb4144a1f6fd8d2ca17a180786b69acc140d282b71a49"
   }
  }
 },
 "nbformat": 4,
 "nbformat_minor": 2
}
